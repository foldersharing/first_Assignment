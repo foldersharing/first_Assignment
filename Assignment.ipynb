{
 "cells": [
  {
   "cell_type": "code",
   "execution_count": null,
   "id": "1f6be523-e626-4e7e-975b-6a8b389fdb0c",
   "metadata": {},
   "outputs": [],
   "source": [
    "#Q 1.\n",
    "my_string = \"Aman\"\n",
    "my_list = [1, 2, \"Aman Yadav\", \"Ayush\"]\n",
    "my_float = 1.2\n",
    "my_tuple = (1,2, 3 ,4)"
   ]
  },
  {
   "cell_type": "code",
   "execution_count": null,
   "id": "f1fa70bf-3aa8-4c9b-995d-936c3bf8efa6",
   "metadata": {},
   "outputs": [],
   "source": [
    "#Q 2\n",
    "# 1. empty string\n",
    "# 2. string\n",
    "# 3. list\n",
    "# 4. integer"
   ]
  },
  {
   "cell_type": "code",
   "execution_count": null,
   "id": "e2be696a-7e2d-4ffe-b3e7-6c53cc4be170",
   "metadata": {},
   "outputs": [],
   "source": [
    "# Q-3\n",
    "#1 . / It's a divide opertor which return  a decimal value\n",
    "num = 3/2\n",
    "print(num)\n",
    "\n",
    "# 2. % is a modulo operator which reutrn only remainder \n",
    "num1  = 3%2\n",
    "print(num1)\n",
    "\n",
    "# 3. // is a floor division which return the integer after division\n",
    "num2 = 3//2 \n",
    "print(num2)\n",
    "\n",
    "# 4. ** Exponentiation  operator returns a to the power b\n",
    "num3 = 2**3\n",
    "print(num3)\n"
   ]
  },
  {
   "cell_type": "code",
   "execution_count": null,
   "id": "163d97a0-9102-42c4-bea1-e14b120a0a94",
   "metadata": {},
   "outputs": [],
   "source": [
    "# Q 4\n",
    "items = [\"aman\", 12, \"ayush\", 15, \"rohit\",47, \"mohit\",37,  True, False]\n",
    "for i in items:\n",
    "    print(i ,  type(i))\n",
    "  "
   ]
  },
  {
   "cell_type": "code",
   "execution_count": 28,
   "id": "ec4aaab4-12b0-4e1f-a1e1-dd72fbda1740",
   "metadata": {},
   "outputs": [
    {
     "name": "stdin",
     "output_type": "stream",
     "text": [
      "input the first number 8\n",
      "input the second number 3\n"
     ]
    },
    {
     "name": "stdout",
     "output_type": "stream",
     "text": [
      "not divisible\n"
     ]
    }
   ],
   "source": [
    "#Q 5\n",
    "\n",
    "num1 = int(input(\"input the first number\"))\n",
    "num2 = int(input(\"input the second number\"))\n",
    "count = 0\n",
    "if num1 % num2 != 0:\n",
    "    print(\"not divisible\")\n",
    "else:\n",
    "    while num1 % num2 ==0:\n",
    "        num1 = num1 / num2\n",
    "        count +=1 \n",
    "    print(\"it is divisble\" , count)"
   ]
  },
  {
   "cell_type": "code",
   "execution_count": 27,
   "id": "8c9f5c94-b81b-4a66-9e85-42946f0af838",
   "metadata": {},
   "outputs": [
    {
     "name": "stdout",
     "output_type": "stream",
     "text": [
      "1  is not divisibel by 3\n",
      "2  is not divisibel by 3\n",
      "3   is divsible by 3\n",
      "4  is not divisibel by 3\n",
      "5  is not divisibel by 3\n",
      "6   is divsible by 3\n",
      "7  is not divisibel by 3\n",
      "8  is not divisibel by 3\n",
      "9   is divsible by 3\n",
      "10  is not divisibel by 3\n",
      "11  is not divisibel by 3\n",
      "12   is divsible by 3\n",
      "13  is not divisibel by 3\n",
      "14  is not divisibel by 3\n",
      "15   is divsible by 3\n",
      "16  is not divisibel by 3\n",
      "17  is not divisibel by 3\n",
      "18   is divsible by 3\n",
      "19  is not divisibel by 3\n",
      "20  is not divisibel by 3\n",
      "21   is divsible by 3\n",
      "22  is not divisibel by 3\n",
      "23  is not divisibel by 3\n",
      "24   is divsible by 3\n",
      "25  is not divisibel by 3\n"
     ]
    }
   ],
   "source": [
    "#Q 6 \n",
    "int_list = [1,2,3,4,5,6,7,8,9,10,11,12,13,14,15,16,17,18,19,20,21,22,23,24,25]\n",
    "\n",
    "for i in int_list:\n",
    "    if i% 3== 0:\n",
    "        print(i, \"  is divsible by 3\")\n",
    "    else:\n",
    "        print(i , \" is not divisibel by 3\")"
   ]
  },
  {
   "cell_type": "code",
   "execution_count": 24,
   "id": "42148695-77ae-4c4e-bb15-346d54f5adc2",
   "metadata": {},
   "outputs": [
    {
     "name": "stdout",
     "output_type": "stream",
     "text": [
      "List after appending a value =  [1, 2, 3, 4, 5, 10]\n",
      "The memory address of int before updating:  139924340737008\n",
      "The memory address of int after updating:  139924340737328\n"
     ]
    }
   ],
   "source": [
    "#Q 7 \n",
    "# Mutable -:\n",
    "#A mutable object can be changed after it is created\n",
    "#Example :\n",
    "my_list = [1,2,3,4,5]\n",
    "my_list.append(10)\n",
    "print(\"List after appending a value = \",my_list)\n",
    "\n",
    "# Immutable -:\n",
    "#  An immutable object cannot be changed after it is created\n",
    "\n",
    "my_number = 25  \n",
    "print('The memory address of int before updating: ', id(my_number))  \n",
    "my_number = 35  \n",
    "print('The memory address of int after updating: ', id(my_number))  \n"
   ]
  }
 ],
 "metadata": {
  "kernelspec": {
   "display_name": "Python 3 (ipykernel)",
   "language": "python",
   "name": "python3"
  },
  "language_info": {
   "codemirror_mode": {
    "name": "ipython",
    "version": 3
   },
   "file_extension": ".py",
   "mimetype": "text/x-python",
   "name": "python",
   "nbconvert_exporter": "python",
   "pygments_lexer": "ipython3",
   "version": "3.10.8"
  },
  "toc-showmarkdowntxt": true,
  "toc-showtags": false
 },
 "nbformat": 4,
 "nbformat_minor": 5
}
